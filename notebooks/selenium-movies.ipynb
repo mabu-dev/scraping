{
 "cells": [
  {
   "cell_type": "code",
   "execution_count": 1,
   "metadata": {
    "collapsed": true
   },
   "outputs": [],
   "source": [
    "import selenium\n",
    "from selenium import webdriver\n",
    "from selenium.webdriver.common.by import By\n",
    "import time\n",
    "import requests"
   ]
  },
  {
   "cell_type": "code",
   "execution_count": 3,
   "metadata": {},
   "outputs": [],
   "source": [
    "browser = webdriver.Firefox() #executable_path='geckodriver.exe')\n",
    "#ms4 = 'http://o2tvseries.com/Madam-Secretary-8/Season-04/index.html'\n",
    "#got7 = 'http://o2tvseries.com/Game-of-Thrones-8/Season-07/index.html'\n",
    "scandal = 'http://o2tvseries.com/Scandal-8/Season-07/index.html'\n",
    "root_dir = 'http://d7.o2tvseries.com/Scandal/Season%2007/''\n",
    "browser.get(scandal)"
   ]
  },
  {
   "cell_type": "code",
   "execution_count": 4,
   "metadata": {
    "collapsed": true
   },
   "outputs": [],
   "source": [
    "elements = browser.find_element_by_class_name('data_list').find_elements_by_xpath(\"//a[@href]\")"
   ]
  },
  {
   "cell_type": "code",
   "execution_count": null,
   "metadata": {
    "collapsed": true
   },
   "outputs": [],
   "source": [
    "elements"
   ]
  },
  {
   "cell_type": "code",
   "execution_count": 6,
   "metadata": {
    "collapsed": true
   },
   "outputs": [],
   "source": [
    "episodes = []\n",
    "for element in elements:\n",
    "    if 'Episode' in element.get_attribute(\"href\"):\n",
    "        episodes.append(element.get_attribute(\"href\"))\n",
    "\n",
    "episodes.reverse()"
   ]
  },
  {
   "cell_type": "code",
   "execution_count": 7,
   "metadata": {},
   "outputs": [
    {
     "data": {
      "text/plain": [
       "['http://o2tvseries.com/Scandal-8/Season-07/Episode-01/index.html',\n",
       " 'http://o2tvseries.com/Scandal-8/Season-07/Episode-02/index.html',\n",
       " 'http://o2tvseries.com/Scandal-8/Season-07/Episode-03/index.html',\n",
       " 'http://o2tvseries.com/Scandal-8/Season-07/Episode-04/index.html',\n",
       " 'http://o2tvseries.com/Scandal-8/Season-07/Episode-05/index.html',\n",
       " 'http://o2tvseries.com/Scandal-8/Season-07/Episode-06/index.html',\n",
       " 'http://o2tvseries.com/Scandal-8/Season-07/Episode-07/index.html']"
      ]
     },
     "execution_count": 7,
     "metadata": {},
     "output_type": "execute_result"
    }
   ],
   "source": [
    "episodes"
   ]
  },
  {
   "cell_type": "code",
   "execution_count": 14,
   "metadata": {},
   "outputs": [
    {
     "name": "stdout",
     "output_type": "stream",
     "text": [
      "Generating download links...\n",
      "found...(7)!\n"
     ]
    }
   ],
   "source": [
    "print(\"Generating download links...\")\n",
    "download_list = []\n",
    "for episode in episodes:\n",
    "    per_episode = webdriver.Firefox() #executable_path='geckodriver.exe')\n",
    "    per_episode.get(episode)\n",
    "    elem_episodes = per_episode.find_element_by_class_name('data_list').find_elements_by_xpath(\"//a[@href]\")\n",
    "    for elem_episode in elem_episodes:\n",
    "        if 'HD (TvShows4Mobile.Com).mp4' in elem_episode.text:\n",
    "            downlink = root_dir + elem_episode.text.replace(' ', '%20')\n",
    "            #print(\"DOWN:\", downlink)\n",
    "            #print(\"TRUE:\", 'http://d7.o2tvseries.com/Scandal/Season%2007/Scandal%20-%20S07E01%20HD%20(TvShows4Mobile.Com).mp4')\n",
    "            \n",
    "            download_list.append(downlink)\n",
    "            #print(elem_episode.get_attribute('href').replace('http', 'https'))\n",
    "    per_episode.close()\n",
    "print(\"found...({0})!\".format(len(download_list)))"
   ]
  },
  {
   "cell_type": "code",
   "execution_count": null,
   "metadata": {
    "collapsed": true
   },
   "outputs": [],
   "source": [
    "download_list"
   ]
  },
  {
   "cell_type": "code",
   "execution_count": null,
   "metadata": {
    "collapsed": true
   },
   "outputs": [],
   "source": [
    "count = 1\n",
    "for download in download_list:\n",
    "    print('Downloading episode {0}, {1} remaining...'.format(count, len(download_list)-count))\n",
    "    print(\"Source:\", download)\n",
    "    episode = download[-38:].replace('%20', ' ')\n",
    "    print('Destination:', episode)\n",
    "    r = requests.get(download, allow_redirects=True)\n",
    "    open(episode, 'wb').write(r.content)\n",
    "    print(\"Done.\")\n",
    "    break"
   ]
  },
  {
   "cell_type": "code",
   "execution_count": null,
   "metadata": {
    "collapsed": true
   },
   "outputs": [],
   "source": []
  }
 ],
 "metadata": {
  "kernelspec": {
   "display_name": "Python 3",
   "language": "python",
   "name": "python3"
  },
  "language_info": {
   "codemirror_mode": {
    "name": "ipython",
    "version": 3
   },
   "file_extension": ".py",
   "mimetype": "text/x-python",
   "name": "python",
   "nbconvert_exporter": "python",
   "pygments_lexer": "ipython3",
   "version": "3.6.1"
  }
 },
 "nbformat": 4,
 "nbformat_minor": 2
}
