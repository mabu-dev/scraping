{
 "cells": [
  {
   "cell_type": "code",
   "execution_count": null,
   "metadata": {
    "collapsed": true
   },
   "outputs": [],
   "source": [
    "from bs4 import BeautifulSoup\n",
    "import requests"
   ]
  },
  {
   "cell_type": "code",
   "execution_count": null,
   "metadata": {
    "collapsed": true
   },
   "outputs": [],
   "source": [
    "series = 'http://o2tvseries.com/Madam-Secretary-8/index.html'\n",
    "headers = {'User-Agent':'Mozilla/5.0 (Macintosh; Intel Mac OS X 10_13_1) AppleWebKit/537.36 (KHTML, like Gecko) Chrome/62.0.3202.94 Safari/537.36'}"
   ]
  },
  {
   "cell_type": "code",
   "execution_count": null,
   "metadata": {
    "collapsed": true
   },
   "outputs": [],
   "source": [
    "def initSeasons(url, flag):\n",
    "#    print('FLAG IS:', flag)\n",
    "    page = requests.get(url, headers=headers)\n",
    "    #print(page.text)\n",
    "    seasons = BeautifulSoup(page.text, \"lxml\")\n",
    "  #  print('seasons found')\n",
    "    if flag == \"None\":\n",
    "    #    print('NONE')\n",
    "        episodes = [episode for episode in seasons.find_all('a')]\n",
    "    else:\n",
    "        episodes = [episode for episode in seasons.find_all('a') if flag in str(episode)]\n",
    "      #  print('NOT NONE')\n",
    "    episodes.reverse()\n",
    "    return episodes"
   ]
  },
  {
   "cell_type": "code",
   "execution_count": null,
   "metadata": {
    "scrolled": false
   },
   "outputs": [],
   "source": [
    "print('initSeasons: processing SEASONS')\n",
    "seasons = initSeasons(series, 'Season')\n",
    "for season in seasons:\n",
    "    url = season.get('href')\n",
    "    this_season = str(str(url).split('/')[4])\n",
    "    print('processing ' + this_season + ' @ '+ str(url))\n",
    "    episodes = initSeasons(url, 'Episode')\n",
    "    for e in episodes:\n",
    "        url = e.get('href')\n",
    "        this_episode = str(url).split('/')[5]\n",
    "        print('processing ' + this_episode) # + ' @ '+ str(url))\n",
    "        formats = initSeasons(url, 'download')\n",
    "        for f in formats:\n",
    "            if 'HD' in str(f):\n",
    "#                http://d10.o2tvseries.com/Madam%20Secretary/Season%2004/Madam%20Secretary%20-%20S04E01%20HD%20(TvShows4Mobile.Com).mp4\n",
    "  #              http://d2.o2tvseries.com/Madam%20Secretary/Season%2004/Madam%20Secretary%20-%20S04E02%20HD%20(TvShows4Mobile.Com).mp4\n",
    "                url = f.get('href')\n",
    "                print('..down link found @ ' + str(url))\n",
    "                files = initSeasons(str(url)+'/index.html', 'None')\n",
    "                print('return')\n",
    "                for m in files:\n",
    "                    print(m.get('href'))"
   ]
  },
  {
   "cell_type": "code",
   "execution_count": null,
   "metadata": {
    "collapsed": true
   },
   "outputs": [],
   "source": []
  },
  {
   "cell_type": "code",
   "execution_count": null,
   "metadata": {
    "collapsed": true
   },
   "outputs": [],
   "source": []
  }
 ],
 "metadata": {
  "kernelspec": {
   "display_name": "Python 3",
   "language": "python",
   "name": "python3"
  },
  "language_info": {
   "codemirror_mode": {
    "name": "ipython",
    "version": 3
   },
   "file_extension": ".py",
   "mimetype": "text/x-python",
   "name": "python",
   "nbconvert_exporter": "python",
   "pygments_lexer": "ipython3",
   "version": "3.6.1"
  }
 },
 "nbformat": 4,
 "nbformat_minor": 2
}
