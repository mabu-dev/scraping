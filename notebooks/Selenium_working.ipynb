{
 "cells": [
  {
   "cell_type": "code",
   "execution_count": null,
   "metadata": {
    "collapsed": true
   },
   "outputs": [],
   "source": [
    "import selenium\n",
    "from selenium import webdriver\n",
    "from selenium.webdriver.common.by import By\n",
    "import time\n",
    "import requests"
   ]
  },
  {
   "cell_type": "code",
   "execution_count": null,
   "metadata": {
    "collapsed": true
   },
   "outputs": [],
   "source": [
    "browser = webdriver.Firefox() #executable_path='geckodriver.exe')\n",
    "browser.get('http://o2tvseries.com/Madam-Secretary-8/Season-04/index.html')"
   ]
  },
  {
   "cell_type": "code",
   "execution_count": null,
   "metadata": {
    "collapsed": true
   },
   "outputs": [],
   "source": [
    "elements = browser.find_element_by_class_name('data_list').find_elements_by_xpath(\"//a[@href]\")"
   ]
  },
  {
   "cell_type": "code",
   "execution_count": null,
   "metadata": {
    "collapsed": true
   },
   "outputs": [],
   "source": [
    "elements"
   ]
  },
  {
   "cell_type": "code",
   "execution_count": null,
   "metadata": {
    "collapsed": true
   },
   "outputs": [],
   "source": [
    "episodes = []\n",
    "for element in elements:\n",
    "    if 'Episode' in element.get_attribute(\"href\"):\n",
    "        episodes.append(element.get_attribute(\"href\"))"
   ]
  },
  {
   "cell_type": "code",
   "execution_count": null,
   "metadata": {
    "collapsed": true
   },
   "outputs": [],
   "source": [
    "download_list = []\n",
    "for episode in episodes:\n",
    "    print(\"#1:\", episode)\n",
    "    per_episode = webdriver.Firefox() #executable_path='geckodriver.exe')\n",
    "    per_episode.get(episode)\n",
    "    elem_episodes = per_episode.find_element_by_class_name('data_list').find_elements_by_xpath(\"//a[@href]\")\n",
    "    for elem_episode in elem_episodes:\n",
    "        if 'HD (TvShows4Mobile.Com).mp4' in elem_episode.text:\n",
    "            print(\"#2:\", elem_episode.text)\n",
    "            downlink = 'http://d5.o2tvseries.com/' + 'Madam%20Secretary/' + 'Season%2004/' + elem_episode.text.replace(' ', '%20')\n",
    "            print(\"DOWN:\", downlink)\n",
    "            download_list.append(downlink)\n",
    "            print(elem_episode.get_attribute('href').replace('http', 'https')) #, elem_episode.text)\n",
    "    per_episode.close()"
   ]
  },
  {
   "cell_type": "code",
   "execution_count": null,
   "metadata": {},
   "outputs": [],
   "source": [
    "download_list"
   ]
  },
  {
   "cell_type": "code",
   "execution_count": null,
   "metadata": {},
   "outputs": [],
   "source": [
    "for download in download_list:\n",
    "    episode = download[-38:].replace('%20', ' ')\n",
    "    print(\"EPI:\", episode)\n",
    "    r = requests.get(download, allow_redirects=True)\n",
    "    open(episode, 'wb').write(r.content)\n",
    "    print('downloaded this Episode : ' + episode)\n",
    "    break"
   ]
  },
  {
   "cell_type": "code",
   "execution_count": null,
   "metadata": {
    "collapsed": true
   },
   "outputs": [],
   "source": []
  }
 ],
 "metadata": {
  "kernelspec": {
   "display_name": "Python 3",
   "language": "python",
   "name": "python3"
  },
  "language_info": {
   "codemirror_mode": {
    "name": "ipython",
    "version": 3
   },
   "file_extension": ".py",
   "mimetype": "text/x-python",
   "name": "python",
   "nbconvert_exporter": "python",
   "pygments_lexer": "ipython3",
   "version": "3.6.1"
  }
 },
 "nbformat": 4,
 "nbformat_minor": 2
}
